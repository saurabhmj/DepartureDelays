{
 "cells": [
  {
   "cell_type": "markdown",
   "metadata": {},
   "source": [
    "# Finding probability of a departure delay\n",
    "\n",
    "Predicting departure delay is an interesting problem and particularly helpful for airport authorities to find lacunas as well as for cargo transport that happens through the airport. \n",
    "\n",
    "In the following approach, the flight schedule and departure times are extracted from the data provided by FlightAware. Every flight has a unique flight ID whch is used to map schedules and departures. Then, the delay for every flight is calculated and all such delays are aggregated over the day on which the flight was scheduled to fly. \n",
    "\n",
    "Further exploratory data analysis is done to extract possible features and hypothesize potential factors leading to a day getting delayed. This feature extraction is followed by implementing logistic regression on the data. The data is cross validated to verify accuracy of the model.\n",
    "\n"
   ]
  },
  {
   "cell_type": "markdown",
   "metadata": {},
   "source": [
    "Import the necessary packages"
   ]
  },
  {
   "cell_type": "code",
   "execution_count": 1,
   "metadata": {
    "collapsed": true
   },
   "outputs": [],
   "source": [
    "import re\n",
    "import pandas as pd\n",
    "import numpy as np\n",
    "import gzip\n",
    "import os\n",
    "import matplotlib.mlab as mlab\n",
    "import matplotlib.pyplot as plt\n",
    "%matplotlib inline"
   ]
  },
  {
   "cell_type": "code",
   "execution_count": 2,
   "metadata": {
    "collapsed": true
   },
   "outputs": [],
   "source": [
    "#initialize global variables\n",
    "home_directory = \"F:/Study/MS/Transvoyant\"\n",
    "threshold_delay = 800000"
   ]
  },
  {
   "cell_type": "markdown",
   "metadata": {},
   "source": [
    "Depatures are read from all the gz files. A regular expression extracts the depature time and flightID which will be mapped to schedules data"
   ]
  },
  {
   "cell_type": "code",
   "execution_count": 3,
   "metadata": {
    "collapsed": true
   },
   "outputs": [],
   "source": [
    "departure_pattern = re.compile(\"\\\"actualDepartureTimestamp\\\":([0-9]+).*\\\"flightAwareFlightId\\\":\\\"([a-zA-Z0-9-]*)\\\"\")\n",
    "departures_list = []\n",
    "def exploreDeparture(name):\n",
    "    with gzip.open(name, 'rb') as f:\n",
    "        file_content = f.read()\n",
    "        matches = departure_pattern.findall(file_content)\n",
    "        #schedules = np.append(schedules, np.array(matches),0)\n",
    "        departures_list.extend(matches)"
   ]
  },
  {
   "cell_type": "markdown",
   "metadata": {},
   "source": [
    "Schedules are too read via regular expression through the json files."
   ]
  },
  {
   "cell_type": "code",
   "execution_count": 4,
   "metadata": {
    "collapsed": true
   },
   "outputs": [],
   "source": [
    "schedule_pattern = re.compile(\"\\\"filedDepartureTime\\\":([0-9]+).*\\\"flightAwareFlightId\\\":\\\"([a-zA-Z0-9-]*)\\\"\")\n",
    "schedules_list=[]\n",
    "def exploreSchedule(name):\n",
    "    with open(name, 'r') as f:\n",
    "        data = f.read()\n",
    "        matches = schedule_pattern.findall(data)\n",
    "        schedules_list.extend(matches)"
   ]
  },
  {
   "cell_type": "markdown",
   "metadata": {},
   "source": [
    "exploreDir will call the necessary function to extract departures and schedules."
   ]
  },
  {
   "cell_type": "code",
   "execution_count": 5,
   "metadata": {
    "collapsed": true
   },
   "outputs": [],
   "source": [
    "def exploreDir(root):\n",
    "    for file in os.listdir(root):\n",
    "        path = os.path.join(root,file)\n",
    "        if(os.path.isdir(path)):\n",
    "            print path\n",
    "            exploreDir(path)\n",
    "        elif(file.endswith('.gz')):\n",
    "            #print \"Exploring \", file\n",
    "            exploreDeparture(path)\n",
    "        elif(file.endswith('.json')):\n",
    "            exploreSchedule(path)"
   ]
  },
  {
   "cell_type": "code",
   "execution_count": 6,
   "metadata": {
    "collapsed": false
   },
   "outputs": [
    {
     "name": "stdout",
     "output_type": "stream",
     "text": [
      "F:/Study/MS/Transvoyant\\Departure\n",
      "F:/Study/MS/Transvoyant\\Departure\\dt=2018-01-01\n",
      "F:/Study/MS/Transvoyant\\Departure\\dt=2018-01-02\n",
      "F:/Study/MS/Transvoyant\\Departure\\dt=2018-01-03\n",
      "F:/Study/MS/Transvoyant\\Departure\\dt=2018-01-04\n",
      "F:/Study/MS/Transvoyant\\Departure\\dt=2018-01-05\n",
      "F:/Study/MS/Transvoyant\\Departure\\dt=2018-01-06\n",
      "F:/Study/MS/Transvoyant\\Departure\\dt=2018-01-07\n",
      "F:/Study/MS/Transvoyant\\Departure\\dt=2018-01-08\n",
      "F:/Study/MS/Transvoyant\\Departure\\dt=2018-01-09\n",
      "F:/Study/MS/Transvoyant\\Departure\\dt=2018-01-10\n",
      "F:/Study/MS/Transvoyant\\Departure\\dt=2018-01-11\n",
      "F:/Study/MS/Transvoyant\\Departure\\dt=2018-01-12\n",
      "F:/Study/MS/Transvoyant\\Departure\\dt=2018-01-13\n",
      "F:/Study/MS/Transvoyant\\Departure\\dt=2018-01-14\n",
      "F:/Study/MS/Transvoyant\\Departure\\dt=2018-01-15\n",
      "F:/Study/MS/Transvoyant\\Departure\\dt=2018-01-16\n",
      "F:/Study/MS/Transvoyant\\Departure\\dt=2018-01-17\n",
      "F:/Study/MS/Transvoyant\\Departure\\dt=2018-01-18\n",
      "F:/Study/MS/Transvoyant\\Departure\\dt=2018-01-19\n",
      "F:/Study/MS/Transvoyant\\Departure\\dt=2018-01-20\n",
      "F:/Study/MS/Transvoyant\\Departure\\dt=2018-01-21\n",
      "F:/Study/MS/Transvoyant\\Departure\\dt=2018-01-22\n",
      "F:/Study/MS/Transvoyant\\Departure\\dt=2018-01-23\n",
      "F:/Study/MS/Transvoyant\\Departure\\dt=2018-01-24\n",
      "F:/Study/MS/Transvoyant\\Departure\\dt=2018-01-25\n",
      "F:/Study/MS/Transvoyant\\Departure\\dt=2018-01-26\n",
      "F:/Study/MS/Transvoyant\\Departure\\dt=2018-01-27\n",
      "F:/Study/MS/Transvoyant\\Departure\\dt=2018-01-28\n",
      "F:/Study/MS/Transvoyant\\Departure\\dt=2018-01-29\n",
      "F:/Study/MS/Transvoyant\\Departure\\dt=2018-01-30\n",
      "F:/Study/MS/Transvoyant\\Departure\\dt=2018-01-31\n",
      "F:/Study/MS/Transvoyant\\Schedule\n",
      "F:/Study/MS/Transvoyant\\Workspace\n",
      "F:/Study/MS/Transvoyant\\Workspace\\.ipynb_checkpoints\n"
     ]
    }
   ],
   "source": [
    "exploreDir(home_directory)"
   ]
  },
  {
   "cell_type": "markdown",
   "metadata": {},
   "source": [
    "Next, we create dataframes from the extracted data"
   ]
  },
  {
   "cell_type": "code",
   "execution_count": 7,
   "metadata": {
    "collapsed": true
   },
   "outputs": [],
   "source": [
    "schedules = pd.DataFrame(schedules_list, columns=['FiledTime', 'FlightID'])\n",
    "departures = pd.DataFrame(departures_list, columns=['DepartureTime', 'FlightID'])"
   ]
  },
  {
   "cell_type": "code",
   "execution_count": 8,
   "metadata": {
    "collapsed": false
   },
   "outputs": [
    {
     "data": {
      "text/html": [
       "<div>\n",
       "<table border=\"1\" class=\"dataframe\">\n",
       "  <thead>\n",
       "    <tr style=\"text-align: right;\">\n",
       "      <th></th>\n",
       "      <th>FiledTime</th>\n",
       "      <th>FlightID</th>\n",
       "    </tr>\n",
       "  </thead>\n",
       "  <tbody>\n",
       "    <tr>\n",
       "      <th>0</th>\n",
       "      <td>1514910900000</td>\n",
       "      <td>SWA1865-1514701572-airline-0570</td>\n",
       "    </tr>\n",
       "    <tr>\n",
       "      <th>1</th>\n",
       "      <td>1514911500000</td>\n",
       "      <td>UAL1735-1514701570-airline-0158</td>\n",
       "    </tr>\n",
       "    <tr>\n",
       "      <th>2</th>\n",
       "      <td>1514907240000</td>\n",
       "      <td>AAL2379-1514701561-airline-0028</td>\n",
       "    </tr>\n",
       "    <tr>\n",
       "      <th>3</th>\n",
       "      <td>1514910600000</td>\n",
       "      <td>ENY3824-1514701561-airline-0512</td>\n",
       "    </tr>\n",
       "    <tr>\n",
       "      <th>4</th>\n",
       "      <td>1514907240000</td>\n",
       "      <td>AAL2379-1514701561-airline-0028</td>\n",
       "    </tr>\n",
       "  </tbody>\n",
       "</table>\n",
       "</div>"
      ],
      "text/plain": [
       "       FiledTime                         FlightID\n",
       "0  1514910900000  SWA1865-1514701572-airline-0570\n",
       "1  1514911500000  UAL1735-1514701570-airline-0158\n",
       "2  1514907240000  AAL2379-1514701561-airline-0028\n",
       "3  1514910600000  ENY3824-1514701561-airline-0512\n",
       "4  1514907240000  AAL2379-1514701561-airline-0028"
      ]
     },
     "execution_count": 8,
     "metadata": {},
     "output_type": "execute_result"
    }
   ],
   "source": [
    "schedules.head()"
   ]
  },
  {
   "cell_type": "code",
   "execution_count": 9,
   "metadata": {
    "collapsed": false
   },
   "outputs": [
    {
     "data": {
      "text/html": [
       "<div>\n",
       "<table border=\"1\" class=\"dataframe\">\n",
       "  <thead>\n",
       "    <tr style=\"text-align: right;\">\n",
       "      <th></th>\n",
       "      <th>DepartureTime</th>\n",
       "      <th>FlightID</th>\n",
       "    </tr>\n",
       "  </thead>\n",
       "  <tbody>\n",
       "    <tr>\n",
       "      <th>0</th>\n",
       "      <td>1514764786000</td>\n",
       "      <td>CCA1526-1514591700-schedule-0000</td>\n",
       "    </tr>\n",
       "    <tr>\n",
       "      <th>1</th>\n",
       "      <td>1514764800000</td>\n",
       "      <td>CSN6125-1514591400-schedule-0000</td>\n",
       "    </tr>\n",
       "    <tr>\n",
       "      <th>2</th>\n",
       "      <td>1514764740000</td>\n",
       "      <td>RPA4591-1514528782-airline-0042</td>\n",
       "    </tr>\n",
       "    <tr>\n",
       "      <th>3</th>\n",
       "      <td>1514764799000</td>\n",
       "      <td>DAL300-1514528784-airline-0316</td>\n",
       "    </tr>\n",
       "    <tr>\n",
       "      <th>4</th>\n",
       "      <td>1514764802000</td>\n",
       "      <td>AAL2478-1514528782-airline-0006</td>\n",
       "    </tr>\n",
       "  </tbody>\n",
       "</table>\n",
       "</div>"
      ],
      "text/plain": [
       "   DepartureTime                          FlightID\n",
       "0  1514764786000  CCA1526-1514591700-schedule-0000\n",
       "1  1514764800000  CSN6125-1514591400-schedule-0000\n",
       "2  1514764740000   RPA4591-1514528782-airline-0042\n",
       "3  1514764799000    DAL300-1514528784-airline-0316\n",
       "4  1514764802000   AAL2478-1514528782-airline-0006"
      ]
     },
     "execution_count": 9,
     "metadata": {},
     "output_type": "execute_result"
    }
   ],
   "source": [
    "departures.head()"
   ]
  },
  {
   "cell_type": "markdown",
   "metadata": {},
   "source": [
    "We join schedules and departures by performing a match join on FlightID"
   ]
  },
  {
   "cell_type": "code",
   "execution_count": 10,
   "metadata": {
    "collapsed": true
   },
   "outputs": [],
   "source": [
    "del(schedules_list)\n",
    "del(departures_list)\n",
    "combined = departures.set_index('FlightID').join(schedules.set_index('FlightID') )"
   ]
  },
  {
   "cell_type": "markdown",
   "metadata": {},
   "source": [
    "Since NA entries will be of no use in finding delay for a day, we eliminate all the entries with NA row entries."
   ]
  },
  {
   "cell_type": "code",
   "execution_count": 11,
   "metadata": {
    "collapsed": false
   },
   "outputs": [],
   "source": [
    "#combined.head()\n",
    "#drop na only if it is of the column time\n",
    "filtered = combined.drop_duplicates(keep='first').dropna(axis=0,how='any')"
   ]
  },
  {
   "cell_type": "markdown",
   "metadata": {},
   "source": [
    "Next step is to localize times to KDCA times, which happen to be Eastern Standard Time. Delay is also calculated in seconds by finding the difference between filed time and departure time."
   ]
  },
  {
   "cell_type": "code",
   "execution_count": 12,
   "metadata": {
    "collapsed": false
   },
   "outputs": [],
   "source": [
    "filtered['DT_Filed_Time'] = pd.to_datetime(filtered['FiledTime'].astype(long), unit='ms').dt.tz_localize('EST')\n",
    "filtered['DT_Departure_Time'] = pd.to_datetime(filtered['DepartureTime'].astype(long), unit='ms').dt.tz_localize('EST')\n",
    "filtered['Delay'] = (filtered['DepartureTime'].astype(long) - filtered['FiledTime'].astype(long))/1000\n",
    "#cast dataframe datatypes as int\n"
   ]
  },
  {
   "cell_type": "markdown",
   "metadata": {},
   "source": [
    "After this, we extract the day and hour to map delays to particular dates. We map the delays to scheduled day and time."
   ]
  },
  {
   "cell_type": "code",
   "execution_count": 13,
   "metadata": {
    "collapsed": false
   },
   "outputs": [],
   "source": [
    "#localize the times to EST\n",
    "#pd.to_datetime(filtered['Filed Time'].astype(long), unit='ms').dt.tz_localize('EST')\n",
    "\n",
    "filtered['Hour'] = filtered.DT_Filed_Time.dt.hour\n",
    "filtered['Day'] = filtered.DT_Filed_Time.dt.day"
   ]
  },
  {
   "cell_type": "code",
   "execution_count": 14,
   "metadata": {
    "collapsed": false
   },
   "outputs": [
    {
     "data": {
      "text/html": [
       "<div>\n",
       "<table border=\"1\" class=\"dataframe\">\n",
       "  <thead>\n",
       "    <tr style=\"text-align: right;\">\n",
       "      <th></th>\n",
       "      <th>DepartureTime</th>\n",
       "      <th>FiledTime</th>\n",
       "      <th>DT_Filed_Time</th>\n",
       "      <th>DT_Departure_Time</th>\n",
       "      <th>Delay</th>\n",
       "      <th>Hour</th>\n",
       "      <th>Day</th>\n",
       "    </tr>\n",
       "    <tr>\n",
       "      <th>FlightID</th>\n",
       "      <th></th>\n",
       "      <th></th>\n",
       "      <th></th>\n",
       "      <th></th>\n",
       "      <th></th>\n",
       "      <th></th>\n",
       "      <th></th>\n",
       "    </tr>\n",
       "  </thead>\n",
       "  <tbody>\n",
       "    <tr>\n",
       "      <th>VRD1731-1515306382-airline-0332</th>\n",
       "      <td>1515500940000</td>\n",
       "      <td>1515499500000</td>\n",
       "      <td>2018-01-09 12:05:00-05:00</td>\n",
       "      <td>2018-01-09 12:29:00-05:00</td>\n",
       "      <td>1440.0</td>\n",
       "      <td>12</td>\n",
       "      <td>9</td>\n",
       "    </tr>\n",
       "    <tr>\n",
       "      <th>VRD1731-1515392764-airline-0199</th>\n",
       "      <td>1515587452000</td>\n",
       "      <td>1515585900000</td>\n",
       "      <td>2018-01-10 12:05:00-05:00</td>\n",
       "      <td>2018-01-10 12:30:52-05:00</td>\n",
       "      <td>1552.0</td>\n",
       "      <td>12</td>\n",
       "      <td>10</td>\n",
       "    </tr>\n",
       "    <tr>\n",
       "      <th>VRD1731-1515479193-airline-0455</th>\n",
       "      <td>1515673809000</td>\n",
       "      <td>1515672300000</td>\n",
       "      <td>2018-01-11 12:05:00-05:00</td>\n",
       "      <td>2018-01-11 12:30:09-05:00</td>\n",
       "      <td>1509.0</td>\n",
       "      <td>12</td>\n",
       "      <td>11</td>\n",
       "    </tr>\n",
       "    <tr>\n",
       "      <th>VRD1731-1515574790-airline-0477</th>\n",
       "      <td>1515759610000</td>\n",
       "      <td>1515758700000</td>\n",
       "      <td>2018-01-12 12:05:00-05:00</td>\n",
       "      <td>2018-01-12 12:20:10-05:00</td>\n",
       "      <td>910.0</td>\n",
       "      <td>12</td>\n",
       "      <td>12</td>\n",
       "    </tr>\n",
       "    <tr>\n",
       "      <th>VRD1731-1515651971-airline-0162</th>\n",
       "      <td>1515846303000</td>\n",
       "      <td>1515845100000</td>\n",
       "      <td>2018-01-13 12:05:00-05:00</td>\n",
       "      <td>2018-01-13 12:25:03-05:00</td>\n",
       "      <td>1203.0</td>\n",
       "      <td>12</td>\n",
       "      <td>13</td>\n",
       "    </tr>\n",
       "    <tr>\n",
       "      <th>VRD1731-1515824748-airline-0214</th>\n",
       "      <td>1516019265000</td>\n",
       "      <td>1516017900000</td>\n",
       "      <td>2018-01-15 12:05:00-05:00</td>\n",
       "      <td>2018-01-15 12:27:45-05:00</td>\n",
       "      <td>1365.0</td>\n",
       "      <td>12</td>\n",
       "      <td>15</td>\n",
       "    </tr>\n",
       "    <tr>\n",
       "      <th>VRD1737-1514615199-airline-0451</th>\n",
       "      <td>1514851195000</td>\n",
       "      <td>1514850600000</td>\n",
       "      <td>2018-01-01 23:50:00-05:00</td>\n",
       "      <td>2018-01-01 23:59:55-05:00</td>\n",
       "      <td>595.0</td>\n",
       "      <td>23</td>\n",
       "      <td>1</td>\n",
       "    </tr>\n",
       "    <tr>\n",
       "      <th>VRD1737-1514701571-airline-0263</th>\n",
       "      <td>1514937906000</td>\n",
       "      <td>1514937000000</td>\n",
       "      <td>2018-01-02 23:50:00-05:00</td>\n",
       "      <td>2018-01-03 00:05:06-05:00</td>\n",
       "      <td>906.0</td>\n",
       "      <td>23</td>\n",
       "      <td>2</td>\n",
       "    </tr>\n",
       "    <tr>\n",
       "      <th>VRD1737-1514701571-airline-0263</th>\n",
       "      <td>1514937840000</td>\n",
       "      <td>1514937000000</td>\n",
       "      <td>2018-01-02 23:50:00-05:00</td>\n",
       "      <td>2018-01-03 00:04:00-05:00</td>\n",
       "      <td>840.0</td>\n",
       "      <td>23</td>\n",
       "      <td>2</td>\n",
       "    </tr>\n",
       "    <tr>\n",
       "      <th>VRD1737-1514787956-airline-0266</th>\n",
       "      <td>1515023777000</td>\n",
       "      <td>1515023400000</td>\n",
       "      <td>2018-01-03 23:50:00-05:00</td>\n",
       "      <td>2018-01-03 23:56:17-05:00</td>\n",
       "      <td>377.0</td>\n",
       "      <td>23</td>\n",
       "      <td>3</td>\n",
       "    </tr>\n",
       "    <tr>\n",
       "      <th>VRD1737-1514874342-airline-0203</th>\n",
       "      <td>1515110135000</td>\n",
       "      <td>1515109800000</td>\n",
       "      <td>2018-01-04 23:50:00-05:00</td>\n",
       "      <td>2018-01-04 23:55:35-05:00</td>\n",
       "      <td>335.0</td>\n",
       "      <td>23</td>\n",
       "      <td>4</td>\n",
       "    </tr>\n",
       "    <tr>\n",
       "      <th>VRD1737-1514960783-airline-0306</th>\n",
       "      <td>1515196648000</td>\n",
       "      <td>1515196200000</td>\n",
       "      <td>2018-01-05 23:50:00-05:00</td>\n",
       "      <td>2018-01-05 23:57:28-05:00</td>\n",
       "      <td>448.0</td>\n",
       "      <td>23</td>\n",
       "      <td>5</td>\n",
       "    </tr>\n",
       "    <tr>\n",
       "      <th>VRD1737-1515133631-airline-0144</th>\n",
       "      <td>1515368762000</td>\n",
       "      <td>1515369000000</td>\n",
       "      <td>2018-01-07 23:50:00-05:00</td>\n",
       "      <td>2018-01-07 23:46:02-05:00</td>\n",
       "      <td>-238.0</td>\n",
       "      <td>23</td>\n",
       "      <td>7</td>\n",
       "    </tr>\n",
       "    <tr>\n",
       "      <th>VRD1737-1515219963-airline-0053</th>\n",
       "      <td>1515455162000</td>\n",
       "      <td>1515454800000</td>\n",
       "      <td>2018-01-08 23:40:00-05:00</td>\n",
       "      <td>2018-01-08 23:46:02-05:00</td>\n",
       "      <td>362.0</td>\n",
       "      <td>23</td>\n",
       "      <td>8</td>\n",
       "    </tr>\n",
       "    <tr>\n",
       "      <th>VRD1737-1515219963-airline-0053</th>\n",
       "      <td>1515455100000</td>\n",
       "      <td>1515454800000</td>\n",
       "      <td>2018-01-08 23:40:00-05:00</td>\n",
       "      <td>2018-01-08 23:45:00-05:00</td>\n",
       "      <td>300.0</td>\n",
       "      <td>23</td>\n",
       "      <td>8</td>\n",
       "    </tr>\n",
       "    <tr>\n",
       "      <th>VRD1737-1515306382-airline-0448</th>\n",
       "      <td>1515542110000</td>\n",
       "      <td>1515541200000</td>\n",
       "      <td>2018-01-09 23:40:00-05:00</td>\n",
       "      <td>2018-01-09 23:55:10-05:00</td>\n",
       "      <td>910.0</td>\n",
       "      <td>23</td>\n",
       "      <td>9</td>\n",
       "    </tr>\n",
       "    <tr>\n",
       "      <th>VRD1737-1515392764-airline-0247</th>\n",
       "      <td>1515628040000</td>\n",
       "      <td>1515627600000</td>\n",
       "      <td>2018-01-10 23:40:00-05:00</td>\n",
       "      <td>2018-01-10 23:47:20-05:00</td>\n",
       "      <td>440.0</td>\n",
       "      <td>23</td>\n",
       "      <td>10</td>\n",
       "    </tr>\n",
       "    <tr>\n",
       "      <th>VRD1737-1515479193-airline-0123</th>\n",
       "      <td>1515714445000</td>\n",
       "      <td>1515714000000</td>\n",
       "      <td>2018-01-11 23:40:00-05:00</td>\n",
       "      <td>2018-01-11 23:47:25-05:00</td>\n",
       "      <td>445.0</td>\n",
       "      <td>23</td>\n",
       "      <td>11</td>\n",
       "    </tr>\n",
       "    <tr>\n",
       "      <th>VRD1737-1515574790-airline-0107</th>\n",
       "      <td>1515811142000</td>\n",
       "      <td>1515800400000</td>\n",
       "      <td>2018-01-12 23:40:00-05:00</td>\n",
       "      <td>2018-01-13 02:39:02-05:00</td>\n",
       "      <td>10742.0</td>\n",
       "      <td>23</td>\n",
       "      <td>12</td>\n",
       "    </tr>\n",
       "    <tr>\n",
       "      <th>XOJ546-1516301440-12-0-56</th>\n",
       "      <td>1516318507000</td>\n",
       "      <td>1516318200000</td>\n",
       "      <td>2018-01-18 23:30:00-05:00</td>\n",
       "      <td>2018-01-18 23:35:07-05:00</td>\n",
       "      <td>307.0</td>\n",
       "      <td>23</td>\n",
       "      <td>18</td>\n",
       "    </tr>\n",
       "  </tbody>\n",
       "</table>\n",
       "</div>"
      ],
      "text/plain": [
       "                                 DepartureTime      FiledTime  \\\n",
       "FlightID                                                        \n",
       "VRD1731-1515306382-airline-0332  1515500940000  1515499500000   \n",
       "VRD1731-1515392764-airline-0199  1515587452000  1515585900000   \n",
       "VRD1731-1515479193-airline-0455  1515673809000  1515672300000   \n",
       "VRD1731-1515574790-airline-0477  1515759610000  1515758700000   \n",
       "VRD1731-1515651971-airline-0162  1515846303000  1515845100000   \n",
       "VRD1731-1515824748-airline-0214  1516019265000  1516017900000   \n",
       "VRD1737-1514615199-airline-0451  1514851195000  1514850600000   \n",
       "VRD1737-1514701571-airline-0263  1514937906000  1514937000000   \n",
       "VRD1737-1514701571-airline-0263  1514937840000  1514937000000   \n",
       "VRD1737-1514787956-airline-0266  1515023777000  1515023400000   \n",
       "VRD1737-1514874342-airline-0203  1515110135000  1515109800000   \n",
       "VRD1737-1514960783-airline-0306  1515196648000  1515196200000   \n",
       "VRD1737-1515133631-airline-0144  1515368762000  1515369000000   \n",
       "VRD1737-1515219963-airline-0053  1515455162000  1515454800000   \n",
       "VRD1737-1515219963-airline-0053  1515455100000  1515454800000   \n",
       "VRD1737-1515306382-airline-0448  1515542110000  1515541200000   \n",
       "VRD1737-1515392764-airline-0247  1515628040000  1515627600000   \n",
       "VRD1737-1515479193-airline-0123  1515714445000  1515714000000   \n",
       "VRD1737-1515574790-airline-0107  1515811142000  1515800400000   \n",
       "XOJ546-1516301440-12-0-56        1516318507000  1516318200000   \n",
       "\n",
       "                                            DT_Filed_Time  \\\n",
       "FlightID                                                    \n",
       "VRD1731-1515306382-airline-0332 2018-01-09 12:05:00-05:00   \n",
       "VRD1731-1515392764-airline-0199 2018-01-10 12:05:00-05:00   \n",
       "VRD1731-1515479193-airline-0455 2018-01-11 12:05:00-05:00   \n",
       "VRD1731-1515574790-airline-0477 2018-01-12 12:05:00-05:00   \n",
       "VRD1731-1515651971-airline-0162 2018-01-13 12:05:00-05:00   \n",
       "VRD1731-1515824748-airline-0214 2018-01-15 12:05:00-05:00   \n",
       "VRD1737-1514615199-airline-0451 2018-01-01 23:50:00-05:00   \n",
       "VRD1737-1514701571-airline-0263 2018-01-02 23:50:00-05:00   \n",
       "VRD1737-1514701571-airline-0263 2018-01-02 23:50:00-05:00   \n",
       "VRD1737-1514787956-airline-0266 2018-01-03 23:50:00-05:00   \n",
       "VRD1737-1514874342-airline-0203 2018-01-04 23:50:00-05:00   \n",
       "VRD1737-1514960783-airline-0306 2018-01-05 23:50:00-05:00   \n",
       "VRD1737-1515133631-airline-0144 2018-01-07 23:50:00-05:00   \n",
       "VRD1737-1515219963-airline-0053 2018-01-08 23:40:00-05:00   \n",
       "VRD1737-1515219963-airline-0053 2018-01-08 23:40:00-05:00   \n",
       "VRD1737-1515306382-airline-0448 2018-01-09 23:40:00-05:00   \n",
       "VRD1737-1515392764-airline-0247 2018-01-10 23:40:00-05:00   \n",
       "VRD1737-1515479193-airline-0123 2018-01-11 23:40:00-05:00   \n",
       "VRD1737-1515574790-airline-0107 2018-01-12 23:40:00-05:00   \n",
       "XOJ546-1516301440-12-0-56       2018-01-18 23:30:00-05:00   \n",
       "\n",
       "                                        DT_Departure_Time    Delay  Hour  Day  \n",
       "FlightID                                                                       \n",
       "VRD1731-1515306382-airline-0332 2018-01-09 12:29:00-05:00   1440.0    12    9  \n",
       "VRD1731-1515392764-airline-0199 2018-01-10 12:30:52-05:00   1552.0    12   10  \n",
       "VRD1731-1515479193-airline-0455 2018-01-11 12:30:09-05:00   1509.0    12   11  \n",
       "VRD1731-1515574790-airline-0477 2018-01-12 12:20:10-05:00    910.0    12   12  \n",
       "VRD1731-1515651971-airline-0162 2018-01-13 12:25:03-05:00   1203.0    12   13  \n",
       "VRD1731-1515824748-airline-0214 2018-01-15 12:27:45-05:00   1365.0    12   15  \n",
       "VRD1737-1514615199-airline-0451 2018-01-01 23:59:55-05:00    595.0    23    1  \n",
       "VRD1737-1514701571-airline-0263 2018-01-03 00:05:06-05:00    906.0    23    2  \n",
       "VRD1737-1514701571-airline-0263 2018-01-03 00:04:00-05:00    840.0    23    2  \n",
       "VRD1737-1514787956-airline-0266 2018-01-03 23:56:17-05:00    377.0    23    3  \n",
       "VRD1737-1514874342-airline-0203 2018-01-04 23:55:35-05:00    335.0    23    4  \n",
       "VRD1737-1514960783-airline-0306 2018-01-05 23:57:28-05:00    448.0    23    5  \n",
       "VRD1737-1515133631-airline-0144 2018-01-07 23:46:02-05:00   -238.0    23    7  \n",
       "VRD1737-1515219963-airline-0053 2018-01-08 23:46:02-05:00    362.0    23    8  \n",
       "VRD1737-1515219963-airline-0053 2018-01-08 23:45:00-05:00    300.0    23    8  \n",
       "VRD1737-1515306382-airline-0448 2018-01-09 23:55:10-05:00    910.0    23    9  \n",
       "VRD1737-1515392764-airline-0247 2018-01-10 23:47:20-05:00    440.0    23   10  \n",
       "VRD1737-1515479193-airline-0123 2018-01-11 23:47:25-05:00    445.0    23   11  \n",
       "VRD1737-1515574790-airline-0107 2018-01-13 02:39:02-05:00  10742.0    23   12  \n",
       "XOJ546-1516301440-12-0-56       2018-01-18 23:35:07-05:00    307.0    23   18  "
      ]
     },
     "execution_count": 14,
     "metadata": {},
     "output_type": "execute_result"
    }
   ],
   "source": [
    "filtered.tail(20)"
   ]
  },
  {
   "cell_type": "markdown",
   "metadata": {},
   "source": [
    "Some helper functions are defined "
   ]
  },
  {
   "cell_type": "code",
   "execution_count": 15,
   "metadata": {
    "collapsed": false
   },
   "outputs": [],
   "source": [
    "def convertToBoolean(num, comparison, threshold, lower=0, upper=0):\n",
    "    if comparison=='gt':\n",
    "        if num > threshold:\n",
    "            return 1\n",
    "        return 0\n",
    "    if comparison=='lt':\n",
    "        if num <= threshold:\n",
    "            return 1\n",
    "        return 0\n",
    "    if comparison=='eq':\n",
    "        if num == threshold:\n",
    "            return 1\n",
    "        return 0\n",
    "    if comparison == 'bet':\n",
    "        if num > lower and num < upper:\n",
    "            return 1\n",
    "        return 0\n",
    "\n",
    "def isDelayed(threshold, value):\n",
    "    if value > threshold:\n",
    "        return 1\n",
    "    return -1\n"
   ]
  },
  {
   "cell_type": "markdown",
   "metadata": {},
   "source": [
    "##### We create a dataframe of delays aggregated on Days and create labels based on thereshold values"
   ]
  },
  {
   "cell_type": "code",
   "execution_count": 16,
   "metadata": {
    "collapsed": false
   },
   "outputs": [
    {
     "data": {
      "text/html": [
       "<div>\n",
       "<table border=\"1\" class=\"dataframe\">\n",
       "  <thead>\n",
       "    <tr style=\"text-align: right;\">\n",
       "      <th></th>\n",
       "      <th>Sum</th>\n",
       "      <th>labels</th>\n",
       "    </tr>\n",
       "    <tr>\n",
       "      <th>Day</th>\n",
       "      <th></th>\n",
       "      <th></th>\n",
       "    </tr>\n",
       "  </thead>\n",
       "  <tbody>\n",
       "    <tr>\n",
       "      <th>1</th>\n",
       "      <td>698323.0</td>\n",
       "      <td>-1</td>\n",
       "    </tr>\n",
       "    <tr>\n",
       "      <th>2</th>\n",
       "      <td>794421.0</td>\n",
       "      <td>-1</td>\n",
       "    </tr>\n",
       "    <tr>\n",
       "      <th>3</th>\n",
       "      <td>698670.0</td>\n",
       "      <td>-1</td>\n",
       "    </tr>\n",
       "    <tr>\n",
       "      <th>4</th>\n",
       "      <td>752925.0</td>\n",
       "      <td>-1</td>\n",
       "    </tr>\n",
       "    <tr>\n",
       "      <th>5</th>\n",
       "      <td>739400.0</td>\n",
       "      <td>-1</td>\n",
       "    </tr>\n",
       "  </tbody>\n",
       "</table>\n",
       "</div>"
      ],
      "text/plain": [
       "          Sum  labels\n",
       "Day                  \n",
       "1    698323.0      -1\n",
       "2    794421.0      -1\n",
       "3    698670.0      -1\n",
       "4    752925.0      -1\n",
       "5    739400.0      -1"
      ]
     },
     "execution_count": 16,
     "metadata": {},
     "output_type": "execute_result"
    }
   ],
   "source": [
    "agg_df = pd.DataFrame(filtered.groupby('Day')[['Delay']].sum())\n",
    "agg_df.columns=['Sum']\n",
    "agg_df['labels'] = (agg_df.Sum.apply(lambda x:isDelayed(800000,x)))\n",
    "agg_df.head()"
   ]
  },
  {
   "cell_type": "markdown",
   "metadata": {},
   "source": [
    "### Relation between delays and traffic at specific hours.\n",
    "\n",
    "A heavy traffic during particular hours is likely to cause a delay in departures. Lets explore whether this hypothesis stands true. We first find the peak hours - the hours where most of the flights are scheduled. "
   ]
  },
  {
   "cell_type": "code",
   "execution_count": 17,
   "metadata": {
    "collapsed": false
   },
   "outputs": [
    {
     "data": {
      "text/html": [
       "<div>\n",
       "<table border=\"1\" class=\"dataframe\">\n",
       "  <thead>\n",
       "    <tr style=\"text-align: right;\">\n",
       "      <th>Hour</th>\n",
       "      <th>0</th>\n",
       "      <th>1</th>\n",
       "      <th>2</th>\n",
       "      <th>3</th>\n",
       "      <th>4</th>\n",
       "      <th>5</th>\n",
       "      <th>10</th>\n",
       "      <th>11</th>\n",
       "      <th>12</th>\n",
       "      <th>13</th>\n",
       "      <th>14</th>\n",
       "      <th>15</th>\n",
       "      <th>16</th>\n",
       "      <th>17</th>\n",
       "      <th>18</th>\n",
       "      <th>19</th>\n",
       "      <th>20</th>\n",
       "      <th>21</th>\n",
       "      <th>22</th>\n",
       "      <th>23</th>\n",
       "    </tr>\n",
       "  </thead>\n",
       "  <tbody>\n",
       "    <tr>\n",
       "      <th>Delay</th>\n",
       "      <td>738</td>\n",
       "      <td>609</td>\n",
       "      <td>102</td>\n",
       "      <td>502</td>\n",
       "      <td>7</td>\n",
       "      <td>3</td>\n",
       "      <td>77</td>\n",
       "      <td>936</td>\n",
       "      <td>590</td>\n",
       "      <td>1056</td>\n",
       "      <td>560</td>\n",
       "      <td>630</td>\n",
       "      <td>997</td>\n",
       "      <td>630</td>\n",
       "      <td>749</td>\n",
       "      <td>633</td>\n",
       "      <td>855</td>\n",
       "      <td>683</td>\n",
       "      <td>1039</td>\n",
       "      <td>616</td>\n",
       "    </tr>\n",
       "  </tbody>\n",
       "</table>\n",
       "</div>"
      ],
      "text/plain": [
       "Hour    0    1    2    3   4   5   10   11   12    13   14   15   16   17  \\\n",
       "Delay  738  609  102  502   7   3  77  936  590  1056  560  630  997  630   \n",
       "\n",
       "Hour    18   19   20   21    22   23  \n",
       "Delay  749  633  855  683  1039  616  "
      ]
     },
     "execution_count": 17,
     "metadata": {},
     "output_type": "execute_result"
    }
   ],
   "source": [
    "filtered.groupby('Hour')[['Delay']].count().T"
   ]
  },
  {
   "cell_type": "markdown",
   "metadata": {},
   "source": [
    "Lets assume peak hours be defined as having scheduled more than 900. Thus, we obtain the hours as - 11, 13,16, and 22"
   ]
  },
  {
   "cell_type": "code",
   "execution_count": 18,
   "metadata": {
    "collapsed": true
   },
   "outputs": [],
   "source": [
    "peakHrs = [11,13,16,22]\n",
    "filtered['PeakHourFlights'] = filtered.Hour.isin(peakHrs)"
   ]
  },
  {
   "cell_type": "markdown",
   "metadata": {},
   "source": [
    "We now aggregate the data and see if the delayed days are in any way proportional to the number of flights in peak hours."
   ]
  },
  {
   "cell_type": "code",
   "execution_count": 19,
   "metadata": {
    "collapsed": false
   },
   "outputs": [],
   "source": [
    "agg_df['PeakHourFlights'] = filtered.groupby('Day')[['PeakHourFlights']].sum()"
   ]
  },
  {
   "cell_type": "code",
   "execution_count": 20,
   "metadata": {
    "collapsed": false
   },
   "outputs": [
    {
     "data": {
      "image/png": "[encoded data removed]",
      "text/plain": [
       "<matplotlib.figure.Figure at 0x41434b00>"
      ]
     },
     "metadata": {},
     "output_type": "display_data"
    }
   ],
   "source": [
    "scatterPlot = plt.scatter(agg_df['labels'],agg_df.PeakHourFlights)\n",
    "plt.xlabel(\"Labels\")\n",
    "plt.ylabel(\"Number of flights in peak hours for the day\")\n",
    "arr = np.array([125 for i in range(-1,2)])\n",
    "plt.plot(range(-1,2), arr, 'r--')\n",
    "plt.show()"
   ]
  },
  {
   "cell_type": "markdown",
   "metadata": {},
   "source": [
    "It is observed that if the number of flights in peak hours are less than 125, it is a good indicator of the day not getting delayed. Thus, we convert PeakHours to a boolean parameter based on the number of flights."
   ]
  },
  {
   "cell_type": "code",
   "execution_count": 21,
   "metadata": {
    "collapsed": false
   },
   "outputs": [],
   "source": [
    "agg_df['PeakHourFlights125'] = agg_df.PeakHourFlights.gt(125)"
   ]
  },
  {
   "cell_type": "markdown",
   "metadata": {},
   "source": [
    "### Relation between total number of flights flying in the day to the delay\n",
    "\n",
    "We now explore the effect of number of flights on the departure delay. We plot the number of flights against the delay. "
   ]
  },
  {
   "cell_type": "code",
   "execution_count": 22,
   "metadata": {
    "collapsed": false
   },
   "outputs": [
    {
     "data": {
      "image/png": "[encoded data removed]",
      "text/plain": [
       "<matplotlib.figure.Figure at 0x413593c8>"
      ]
     },
     "metadata": {},
     "output_type": "display_data"
    }
   ],
   "source": [
    "agg_df['NumFlights'] = filtered.groupby('Day')[['Delay']].count()\n",
    "scatterPlot = plt.scatter(agg_df['labels'],agg_df.NumFlights)\n",
    "plt.xlabel(\"Labels\")\n",
    "plt.ylabel(\"Total number of flights for the day\")\n",
    "arr = np.array([370 for i in range(-1,2)])\n",
    "plt.plot(range(-1,2), arr, 'r--')\n",
    "plt.show()"
   ]
  },
  {
   "cell_type": "markdown",
   "metadata": {},
   "source": [
    "More number of flights do not necessarily indicate a delay, however, lesser number of flights guarantee that the day will not be delayed. Thus, this parameter looks significant."
   ]
  },
  {
   "cell_type": "code",
   "execution_count": 23,
   "metadata": {
    "collapsed": true
   },
   "outputs": [],
   "source": [
    "agg_df['NumFlights370'] = agg_df.NumFlights.gt(370)"
   ]
  },
  {
   "cell_type": "markdown",
   "metadata": {},
   "source": [
    "Looking more closely, it is very likely that the number of flights in peak hours would correlate to the total number of flights. We look at this trend through a scatterplot. As expected the plot shows a high correlation (94%). We still keep both parameters and would later have their impact tested on the algorithm."
   ]
  },
  {
   "cell_type": "code",
   "execution_count": 24,
   "metadata": {
    "collapsed": false
   },
   "outputs": [
    {
     "data": {
      "image/png": "[encoded data removed]",
      "text/plain": [
       "<matplotlib.figure.Figure at 0x41434978>"
      ]
     },
     "metadata": {},
     "output_type": "display_data"
    },
    {
     "name": "stdout",
     "output_type": "stream",
     "text": [
      "                 PeakHourFlights  NumFlights\n",
      "PeakHourFlights         1.000000    0.945065\n",
      "NumFlights              0.945065    1.000000\n"
     ]
    }
   ],
   "source": [
    "plt.scatter(agg_df.PeakHourFlights,agg_df.NumFlights)\n",
    "plt.xlabel(\"Number of flights in peak hours for the day\")\n",
    "plt.ylabel(\"Total number of flights for the day\")\n",
    "\n",
    "plt.show()\n",
    "print pd.concat([agg_df.PeakHourFlights, agg_df.NumFlights],axis=1).corr()"
   ]
  },
  {
   "cell_type": "markdown",
   "metadata": {},
   "source": [
    " ### Exploring how the flights which cause more delay impact a day getting delayed\n",
    " \n",
    " On any given day, the number of flights which get delayed by a certain amount of time are more likely to impact the result of a day getting delayed. We now find the data distribution of delays of each flight"
   ]
  },
  {
   "cell_type": "code",
   "execution_count": 25,
   "metadata": {
    "collapsed": false
   },
   "outputs": [
    {
     "data": {
      "text/plain": [
       "count    12012.000000\n",
       "mean      2089.062771\n",
       "std       3004.206907\n",
       "min      -7080.000000\n",
       "25%        614.000000\n",
       "50%       1140.000000\n",
       "75%       2220.000000\n",
       "max      70316.000000\n",
       "Name: Delay, dtype: float64"
      ]
     },
     "execution_count": 25,
     "metadata": {},
     "output_type": "execute_result"
    }
   ],
   "source": [
    "filtered.Delay.describe()"
   ]
  },
  {
   "cell_type": "markdown",
   "metadata": {},
   "source": [
    "Lets take the 75th percentile as a benchamrk for the flight being *extra delayed* and find the number of flights which show such behaviour."
   ]
  },
  {
   "cell_type": "code",
   "execution_count": 26,
   "metadata": {
    "collapsed": false
   },
   "outputs": [
    {
     "data": {
      "text/html": [
       "<div>\n",
       "<table border=\"1\" class=\"dataframe\">\n",
       "  <thead>\n",
       "    <tr style=\"text-align: right;\">\n",
       "      <th></th>\n",
       "      <th>Sum</th>\n",
       "      <th>labels</th>\n",
       "      <th>PeakHourFlights</th>\n",
       "      <th>PeakHourFlights125</th>\n",
       "      <th>NumFlights</th>\n",
       "      <th>NumFlights370</th>\n",
       "      <th>ExtraDelay</th>\n",
       "    </tr>\n",
       "    <tr>\n",
       "      <th>Day</th>\n",
       "      <th></th>\n",
       "      <th></th>\n",
       "      <th></th>\n",
       "      <th></th>\n",
       "      <th></th>\n",
       "      <th></th>\n",
       "      <th></th>\n",
       "    </tr>\n",
       "  </thead>\n",
       "  <tbody>\n",
       "    <tr>\n",
       "      <th>1</th>\n",
       "      <td>698323.0</td>\n",
       "      <td>-1</td>\n",
       "      <td>91.0</td>\n",
       "      <td>False</td>\n",
       "      <td>294</td>\n",
       "      <td>False</td>\n",
       "      <td>80.0</td>\n",
       "    </tr>\n",
       "    <tr>\n",
       "      <th>2</th>\n",
       "      <td>794421.0</td>\n",
       "      <td>-1</td>\n",
       "      <td>121.0</td>\n",
       "      <td>False</td>\n",
       "      <td>356</td>\n",
       "      <td>False</td>\n",
       "      <td>97.0</td>\n",
       "    </tr>\n",
       "    <tr>\n",
       "      <th>3</th>\n",
       "      <td>698670.0</td>\n",
       "      <td>-1</td>\n",
       "      <td>128.0</td>\n",
       "      <td>True</td>\n",
       "      <td>367</td>\n",
       "      <td>False</td>\n",
       "      <td>87.0</td>\n",
       "    </tr>\n",
       "    <tr>\n",
       "      <th>4</th>\n",
       "      <td>752925.0</td>\n",
       "      <td>-1</td>\n",
       "      <td>104.0</td>\n",
       "      <td>False</td>\n",
       "      <td>304</td>\n",
       "      <td>False</td>\n",
       "      <td>126.0</td>\n",
       "    </tr>\n",
       "    <tr>\n",
       "      <th>5</th>\n",
       "      <td>739400.0</td>\n",
       "      <td>-1</td>\n",
       "      <td>121.0</td>\n",
       "      <td>False</td>\n",
       "      <td>330</td>\n",
       "      <td>False</td>\n",
       "      <td>91.0</td>\n",
       "    </tr>\n",
       "  </tbody>\n",
       "</table>\n",
       "</div>"
      ],
      "text/plain": [
       "          Sum  labels  PeakHourFlights PeakHourFlights125  NumFlights  \\\n",
       "Day                                                                     \n",
       "1    698323.0      -1             91.0              False         294   \n",
       "2    794421.0      -1            121.0              False         356   \n",
       "3    698670.0      -1            128.0               True         367   \n",
       "4    752925.0      -1            104.0              False         304   \n",
       "5    739400.0      -1            121.0              False         330   \n",
       "\n",
       "    NumFlights370  ExtraDelay  \n",
       "Day                            \n",
       "1           False        80.0  \n",
       "2           False        97.0  \n",
       "3           False        87.0  \n",
       "4           False       126.0  \n",
       "5           False        91.0  "
      ]
     },
     "execution_count": 26,
     "metadata": {},
     "output_type": "execute_result"
    }
   ],
   "source": [
    "filtered['ExtraDelay'] = filtered.Delay.gt(2220)\n",
    "agg_df['ExtraDelay']=filtered.groupby('Day')[['ExtraDelay']].sum()\n",
    "agg_df.head()"
   ]
  },
  {
   "cell_type": "code",
   "execution_count": 27,
   "metadata": {
    "collapsed": false
   },
   "outputs": [
    {
     "data": {
      "image/png": "[encoded data removed]",
      "text/plain": [
       "<matplotlib.figure.Figure at 0x412f1940>"
      ]
     },
     "metadata": {},
     "output_type": "display_data"
    }
   ],
   "source": [
    "plt.ion()\n",
    "scatterPlot = plt.scatter(agg_df['labels'],agg_df.ExtraDelay)\n",
    "plt.xlabel(\"Labels\")\n",
    "plt.ylabel(\"Number of flights getting late by 2220 seconds\")\n",
    "\n",
    "plt.show()"
   ]
  },
  {
   "cell_type": "markdown",
   "metadata": {},
   "source": [
    "The extremes tend to correctly indicate the label. Lets explore whether or not a flight departing early has any impact on the day getting delayed"
   ]
  },
  {
   "cell_type": "code",
   "execution_count": 28,
   "metadata": {
    "collapsed": false,
    "scrolled": true
   },
   "outputs": [
    {
     "data": {
      "image/png": "[encoded data removed]",
      "text/plain": [
       "<matplotlib.figure.Figure at 0x417a9d30>"
      ]
     },
     "metadata": {},
     "output_type": "display_data"
    }
   ],
   "source": [
    "filtered['TooEarly'] = filtered.Delay.lt(-100)\n",
    "agg_df['TooEarly']=filtered.groupby('Day')[['TooEarly']].sum()\n",
    "#agg_df.head()\n",
    "\n",
    "\n",
    "scatterPlot = plt.scatter(agg_df['labels'],agg_df.TooEarly)\n",
    "plt.xlabel(\"Labels\")\n",
    "plt.ylabel(\"Number of flights getting late by 2220 seconds\")\n",
    "\n",
    "plt.show()"
   ]
  },
  {
   "cell_type": "markdown",
   "metadata": {},
   "source": [
    "A flight departing is not an indicator of delay as expressed from the scatterplot. Thus, we do not include the parameter into the model."
   ]
  },
  {
   "cell_type": "code",
   "execution_count": 29,
   "metadata": {
    "collapsed": false,
    "scrolled": true
   },
   "outputs": [
    {
     "name": "stdout",
     "output_type": "stream",
     "text": [
      "                 PeakHourFlights  NumFlights  ExtraDelay\n",
      "PeakHourFlights         1.000000    0.945065    0.101975\n",
      "NumFlights              0.945065    1.000000    0.190471\n",
      "ExtraDelay              0.101975    0.190471    1.000000\n"
     ]
    }
   ],
   "source": [
    "print pd.concat([agg_df.PeakHourFlights, agg_df.NumFlights, agg_df.ExtraDelay],axis=1).corr()"
   ]
  },
  {
   "cell_type": "markdown",
   "metadata": {},
   "source": [
    "We see that the ExtraDelay parameter show low correlation with NumFlights as well as PeakHourFlights. We thus include it to explain the model."
   ]
  },
  {
   "cell_type": "code",
   "execution_count": 30,
   "metadata": {
    "collapsed": false
   },
   "outputs": [
    {
     "data": {
      "text/html": [
       "<div>\n",
       "<table border=\"1\" class=\"dataframe\">\n",
       "  <thead>\n",
       "    <tr style=\"text-align: right;\">\n",
       "      <th></th>\n",
       "      <th>labels</th>\n",
       "      <th>PeakHourFlights</th>\n",
       "      <th>PeakHourFlights125</th>\n",
       "      <th>NumFlights</th>\n",
       "      <th>NumFlights370</th>\n",
       "      <th>ExtraDelay</th>\n",
       "    </tr>\n",
       "    <tr>\n",
       "      <th>Day</th>\n",
       "      <th></th>\n",
       "      <th></th>\n",
       "      <th></th>\n",
       "      <th></th>\n",
       "      <th></th>\n",
       "      <th></th>\n",
       "    </tr>\n",
       "  </thead>\n",
       "  <tbody>\n",
       "    <tr>\n",
       "      <th>1</th>\n",
       "      <td>-1</td>\n",
       "      <td>91.0</td>\n",
       "      <td>False</td>\n",
       "      <td>294</td>\n",
       "      <td>False</td>\n",
       "      <td>80.0</td>\n",
       "    </tr>\n",
       "    <tr>\n",
       "      <th>2</th>\n",
       "      <td>-1</td>\n",
       "      <td>121.0</td>\n",
       "      <td>False</td>\n",
       "      <td>356</td>\n",
       "      <td>False</td>\n",
       "      <td>97.0</td>\n",
       "    </tr>\n",
       "    <tr>\n",
       "      <th>3</th>\n",
       "      <td>-1</td>\n",
       "      <td>128.0</td>\n",
       "      <td>True</td>\n",
       "      <td>367</td>\n",
       "      <td>False</td>\n",
       "      <td>87.0</td>\n",
       "    </tr>\n",
       "    <tr>\n",
       "      <th>4</th>\n",
       "      <td>-1</td>\n",
       "      <td>104.0</td>\n",
       "      <td>False</td>\n",
       "      <td>304</td>\n",
       "      <td>False</td>\n",
       "      <td>126.0</td>\n",
       "    </tr>\n",
       "    <tr>\n",
       "      <th>5</th>\n",
       "      <td>-1</td>\n",
       "      <td>121.0</td>\n",
       "      <td>False</td>\n",
       "      <td>330</td>\n",
       "      <td>False</td>\n",
       "      <td>91.0</td>\n",
       "    </tr>\n",
       "    <tr>\n",
       "      <th>6</th>\n",
       "      <td>-1</td>\n",
       "      <td>107.0</td>\n",
       "      <td>False</td>\n",
       "      <td>302</td>\n",
       "      <td>False</td>\n",
       "      <td>92.0</td>\n",
       "    </tr>\n",
       "    <tr>\n",
       "      <th>7</th>\n",
       "      <td>-1</td>\n",
       "      <td>128.0</td>\n",
       "      <td>True</td>\n",
       "      <td>334</td>\n",
       "      <td>False</td>\n",
       "      <td>86.0</td>\n",
       "    </tr>\n",
       "    <tr>\n",
       "      <th>8</th>\n",
       "      <td>1</td>\n",
       "      <td>129.0</td>\n",
       "      <td>True</td>\n",
       "      <td>402</td>\n",
       "      <td>True</td>\n",
       "      <td>170.0</td>\n",
       "    </tr>\n",
       "    <tr>\n",
       "      <th>9</th>\n",
       "      <td>1</td>\n",
       "      <td>127.0</td>\n",
       "      <td>True</td>\n",
       "      <td>391</td>\n",
       "      <td>True</td>\n",
       "      <td>221.0</td>\n",
       "    </tr>\n",
       "    <tr>\n",
       "      <th>10</th>\n",
       "      <td>1</td>\n",
       "      <td>150.0</td>\n",
       "      <td>True</td>\n",
       "      <td>456</td>\n",
       "      <td>True</td>\n",
       "      <td>111.0</td>\n",
       "    </tr>\n",
       "    <tr>\n",
       "      <th>11</th>\n",
       "      <td>1</td>\n",
       "      <td>146.0</td>\n",
       "      <td>True</td>\n",
       "      <td>449</td>\n",
       "      <td>True</td>\n",
       "      <td>84.0</td>\n",
       "    </tr>\n",
       "    <tr>\n",
       "      <th>12</th>\n",
       "      <td>1</td>\n",
       "      <td>127.0</td>\n",
       "      <td>True</td>\n",
       "      <td>383</td>\n",
       "      <td>True</td>\n",
       "      <td>213.0</td>\n",
       "    </tr>\n",
       "    <tr>\n",
       "      <th>13</th>\n",
       "      <td>-1</td>\n",
       "      <td>101.0</td>\n",
       "      <td>False</td>\n",
       "      <td>318</td>\n",
       "      <td>False</td>\n",
       "      <td>93.0</td>\n",
       "    </tr>\n",
       "    <tr>\n",
       "      <th>14</th>\n",
       "      <td>-1</td>\n",
       "      <td>106.0</td>\n",
       "      <td>False</td>\n",
       "      <td>281</td>\n",
       "      <td>False</td>\n",
       "      <td>27.0</td>\n",
       "    </tr>\n",
       "    <tr>\n",
       "      <th>15</th>\n",
       "      <td>-1</td>\n",
       "      <td>142.0</td>\n",
       "      <td>True</td>\n",
       "      <td>422</td>\n",
       "      <td>True</td>\n",
       "      <td>112.0</td>\n",
       "    </tr>\n",
       "    <tr>\n",
       "      <th>16</th>\n",
       "      <td>1</td>\n",
       "      <td>147.0</td>\n",
       "      <td>True</td>\n",
       "      <td>439</td>\n",
       "      <td>True</td>\n",
       "      <td>106.0</td>\n",
       "    </tr>\n",
       "    <tr>\n",
       "      <th>17</th>\n",
       "      <td>1</td>\n",
       "      <td>127.0</td>\n",
       "      <td>True</td>\n",
       "      <td>400</td>\n",
       "      <td>True</td>\n",
       "      <td>183.0</td>\n",
       "    </tr>\n",
       "    <tr>\n",
       "      <th>18</th>\n",
       "      <td>1</td>\n",
       "      <td>139.0</td>\n",
       "      <td>True</td>\n",
       "      <td>423</td>\n",
       "      <td>True</td>\n",
       "      <td>124.0</td>\n",
       "    </tr>\n",
       "    <tr>\n",
       "      <th>19</th>\n",
       "      <td>1</td>\n",
       "      <td>146.0</td>\n",
       "      <td>True</td>\n",
       "      <td>445</td>\n",
       "      <td>True</td>\n",
       "      <td>107.0</td>\n",
       "    </tr>\n",
       "    <tr>\n",
       "      <th>20</th>\n",
       "      <td>-1</td>\n",
       "      <td>110.0</td>\n",
       "      <td>False</td>\n",
       "      <td>340</td>\n",
       "      <td>False</td>\n",
       "      <td>41.0</td>\n",
       "    </tr>\n",
       "    <tr>\n",
       "      <th>21</th>\n",
       "      <td>-1</td>\n",
       "      <td>124.0</td>\n",
       "      <td>False</td>\n",
       "      <td>337</td>\n",
       "      <td>False</td>\n",
       "      <td>28.0</td>\n",
       "    </tr>\n",
       "    <tr>\n",
       "      <th>22</th>\n",
       "      <td>-1</td>\n",
       "      <td>140.0</td>\n",
       "      <td>True</td>\n",
       "      <td>436</td>\n",
       "      <td>True</td>\n",
       "      <td>54.0</td>\n",
       "    </tr>\n",
       "    <tr>\n",
       "      <th>23</th>\n",
       "      <td>-1</td>\n",
       "      <td>140.0</td>\n",
       "      <td>True</td>\n",
       "      <td>428</td>\n",
       "      <td>True</td>\n",
       "      <td>72.0</td>\n",
       "    </tr>\n",
       "    <tr>\n",
       "      <th>24</th>\n",
       "      <td>-1</td>\n",
       "      <td>152.0</td>\n",
       "      <td>True</td>\n",
       "      <td>451</td>\n",
       "      <td>True</td>\n",
       "      <td>65.0</td>\n",
       "    </tr>\n",
       "    <tr>\n",
       "      <th>25</th>\n",
       "      <td>-1</td>\n",
       "      <td>147.0</td>\n",
       "      <td>True</td>\n",
       "      <td>447</td>\n",
       "      <td>True</td>\n",
       "      <td>74.0</td>\n",
       "    </tr>\n",
       "    <tr>\n",
       "      <th>26</th>\n",
       "      <td>-1</td>\n",
       "      <td>147.0</td>\n",
       "      <td>True</td>\n",
       "      <td>450</td>\n",
       "      <td>True</td>\n",
       "      <td>43.0</td>\n",
       "    </tr>\n",
       "    <tr>\n",
       "      <th>27</th>\n",
       "      <td>-1</td>\n",
       "      <td>107.0</td>\n",
       "      <td>False</td>\n",
       "      <td>333</td>\n",
       "      <td>False</td>\n",
       "      <td>21.0</td>\n",
       "    </tr>\n",
       "    <tr>\n",
       "      <th>28</th>\n",
       "      <td>-1</td>\n",
       "      <td>130.0</td>\n",
       "      <td>True</td>\n",
       "      <td>349</td>\n",
       "      <td>False</td>\n",
       "      <td>52.0</td>\n",
       "    </tr>\n",
       "    <tr>\n",
       "      <th>29</th>\n",
       "      <td>1</td>\n",
       "      <td>148.0</td>\n",
       "      <td>True</td>\n",
       "      <td>446</td>\n",
       "      <td>True</td>\n",
       "      <td>105.0</td>\n",
       "    </tr>\n",
       "    <tr>\n",
       "      <th>30</th>\n",
       "      <td>1</td>\n",
       "      <td>149.0</td>\n",
       "      <td>True</td>\n",
       "      <td>448</td>\n",
       "      <td>True</td>\n",
       "      <td>125.0</td>\n",
       "    </tr>\n",
       "    <tr>\n",
       "      <th>31</th>\n",
       "      <td>-1</td>\n",
       "      <td>147.0</td>\n",
       "      <td>True</td>\n",
       "      <td>451</td>\n",
       "      <td>True</td>\n",
       "      <td>78.0</td>\n",
       "    </tr>\n",
       "  </tbody>\n",
       "</table>\n",
       "</div>"
      ],
      "text/plain": [
       "     labels  PeakHourFlights PeakHourFlights125  NumFlights NumFlights370  \\\n",
       "Day                                                                         \n",
       "1        -1             91.0              False         294         False   \n",
       "2        -1            121.0              False         356         False   \n",
       "3        -1            128.0               True         367         False   \n",
       "4        -1            104.0              False         304         False   \n",
       "5        -1            121.0              False         330         False   \n",
       "6        -1            107.0              False         302         False   \n",
       "7        -1            128.0               True         334         False   \n",
       "8         1            129.0               True         402          True   \n",
       "9         1            127.0               True         391          True   \n",
       "10        1            150.0               True         456          True   \n",
       "11        1            146.0               True         449          True   \n",
       "12        1            127.0               True         383          True   \n",
       "13       -1            101.0              False         318         False   \n",
       "14       -1            106.0              False         281         False   \n",
       "15       -1            142.0               True         422          True   \n",
       "16        1            147.0               True         439          True   \n",
       "17        1            127.0               True         400          True   \n",
       "18        1            139.0               True         423          True   \n",
       "19        1            146.0               True         445          True   \n",
       "20       -1            110.0              False         340         False   \n",
       "21       -1            124.0              False         337         False   \n",
       "22       -1            140.0               True         436          True   \n",
       "23       -1            140.0               True         428          True   \n",
       "24       -1            152.0               True         451          True   \n",
       "25       -1            147.0               True         447          True   \n",
       "26       -1            147.0               True         450          True   \n",
       "27       -1            107.0              False         333         False   \n",
       "28       -1            130.0               True         349         False   \n",
       "29        1            148.0               True         446          True   \n",
       "30        1            149.0               True         448          True   \n",
       "31       -1            147.0               True         451          True   \n",
       "\n",
       "     ExtraDelay  \n",
       "Day              \n",
       "1          80.0  \n",
       "2          97.0  \n",
       "3          87.0  \n",
       "4         126.0  \n",
       "5          91.0  \n",
       "6          92.0  \n",
       "7          86.0  \n",
       "8         170.0  \n",
       "9         221.0  \n",
       "10        111.0  \n",
       "11         84.0  \n",
       "12        213.0  \n",
       "13         93.0  \n",
       "14         27.0  \n",
       "15        112.0  \n",
       "16        106.0  \n",
       "17        183.0  \n",
       "18        124.0  \n",
       "19        107.0  \n",
       "20         41.0  \n",
       "21         28.0  \n",
       "22         54.0  \n",
       "23         72.0  \n",
       "24         65.0  \n",
       "25         74.0  \n",
       "26         43.0  \n",
       "27         21.0  \n",
       "28         52.0  \n",
       "29        105.0  \n",
       "30        125.0  \n",
       "31         78.0  "
      ]
     },
     "execution_count": 30,
     "metadata": {},
     "output_type": "execute_result"
    }
   ],
   "source": [
    "dataset = agg_df.drop(['TooEarly','Sum'],axis=1)\n",
    "dataset"
   ]
  },
  {
   "cell_type": "markdown",
   "metadata": {},
   "source": [
    "We now shuffle the dataset for splitting into training and test part. Model is validated on the test data."
   ]
  },
  {
   "cell_type": "code",
   "execution_count": 263,
   "metadata": {
    "collapsed": true
   },
   "outputs": [],
   "source": [
    "dataset2 = dataset.sample(frac=1)"
   ]
  },
  {
   "cell_type": "markdown",
   "metadata": {},
   "source": [
    "A logistic regression model is implemented to predict whether or not a day will be delayed with a probability score. Label is 1 if the day is delayed else -1. The problem is mapped to a classification problem wherein based on the features the model is trained to predict whether or not there would be a delay and with what probability. A logistic regression uses a sigmoid function which wil find the probability from the prediction of delay."
   ]
  },
  {
   "cell_type": "code",
   "execution_count": 40,
   "metadata": {
    "collapsed": false
   },
   "outputs": [
    {
     "data": {
      "text/plain": [
       "LogisticRegression(C=1.0, class_weight=None, dual=False, fit_intercept=True,\n",
       "          intercept_scaling=1, max_iter=100, multi_class='ovr', n_jobs=1,\n",
       "          penalty='l1', random_state=None, solver='liblinear', tol=0.0001,\n",
       "          verbose=0, warm_start=False)"
      ]
     },
     "execution_count": 40,
     "metadata": {},
     "output_type": "execute_result"
    }
   ],
   "source": [
    "from sklearn.linear_model import LogisticRegression\n",
    "\n",
    "dataset = dataset\n",
    "train = dataset.iloc[range(24),:]\n",
    "test = dataset.iloc[range(24,31),:]\n",
    "train_labels = train['labels']\n",
    "test_labels = test['labels']\n",
    "train_data = train.drop('labels',axis=1)\n",
    "test_data = test.drop('labels',axis=1)\n",
    "\n",
    "logisticRegr = LogisticRegression()\n",
    "logisticRegr.fit(train_data, train_labels)"
   ]
  },
  {
   "cell_type": "markdown",
   "metadata": {},
   "source": [
    "The accuracy of model ranges from 75 to 85 percent. Since the data points are low, even a one or two inaccurate classifications result in an increased error."
   ]
  },
  {
   "cell_type": "code",
   "execution_count": 41,
   "metadata": {
    "collapsed": false
   },
   "outputs": [
    {
     "name": "stdout",
     "output_type": "stream",
     "text": [
      "0.857142857143\n"
     ]
    }
   ],
   "source": [
    "score = logisticRegr.score(test_data, test_labels)\n",
    "print score"
   ]
  },
  {
   "cell_type": "code",
   "execution_count": 35,
   "metadata": {
    "collapsed": false
   },
   "outputs": [],
   "source": [
    "func = lambda x: 1 if x>0.5 else -1\n",
    "predicted_labels = np.array([func(x) for x in logisticRegr.predict_proba(test_data)[:,1]])"
   ]
  },
  {
   "cell_type": "code",
   "execution_count": 36,
   "metadata": {
    "collapsed": false
   },
   "outputs": [
    {
     "data": {
      "text/plain": [
       "Day\n",
       "25   -1\n",
       "26   -1\n",
       "27   -1\n",
       "28   -1\n",
       "29    1\n",
       "30    1\n",
       "31   -1\n",
       "Name: labels, dtype: int64"
      ]
     },
     "execution_count": 36,
     "metadata": {},
     "output_type": "execute_result"
    }
   ],
   "source": [
    "test_labels"
   ]
  },
  {
   "cell_type": "code",
   "execution_count": 37,
   "metadata": {
    "collapsed": false
   },
   "outputs": [],
   "source": [
    "output = pd.concat([test_labels], axis=1)\n",
    "output.columns = ['Actual labels']\n",
    "output[\"Predicted labels\"] = predicted_labels\n",
    "output[\"Probability of predicted labels\"] = np.max(logisticRegr.predict_proba(test_data), axis=1)"
   ]
  },
  {
   "cell_type": "code",
   "execution_count": 38,
   "metadata": {
    "collapsed": false
   },
   "outputs": [
    {
     "data": {
      "text/html": [
       "<div>\n",
       "<table border=\"1\" class=\"dataframe\">\n",
       "  <thead>\n",
       "    <tr style=\"text-align: right;\">\n",
       "      <th></th>\n",
       "      <th>Actual labels</th>\n",
       "      <th>Predicted labels</th>\n",
       "      <th>Probability of predicted labels</th>\n",
       "    </tr>\n",
       "    <tr>\n",
       "      <th>Day</th>\n",
       "      <th></th>\n",
       "      <th></th>\n",
       "      <th></th>\n",
       "    </tr>\n",
       "  </thead>\n",
       "  <tbody>\n",
       "    <tr>\n",
       "      <th>25</th>\n",
       "      <td>-1</td>\n",
       "      <td>-1</td>\n",
       "      <td>0.709676</td>\n",
       "    </tr>\n",
       "    <tr>\n",
       "      <th>26</th>\n",
       "      <td>-1</td>\n",
       "      <td>-1</td>\n",
       "      <td>0.845989</td>\n",
       "    </tr>\n",
       "    <tr>\n",
       "      <th>27</th>\n",
       "      <td>-1</td>\n",
       "      <td>-1</td>\n",
       "      <td>0.951672</td>\n",
       "    </tr>\n",
       "    <tr>\n",
       "      <th>28</th>\n",
       "      <td>-1</td>\n",
       "      <td>-1</td>\n",
       "      <td>0.989715</td>\n",
       "    </tr>\n",
       "    <tr>\n",
       "      <th>29</th>\n",
       "      <td>1</td>\n",
       "      <td>-1</td>\n",
       "      <td>0.542773</td>\n",
       "    </tr>\n",
       "    <tr>\n",
       "      <th>30</th>\n",
       "      <td>1</td>\n",
       "      <td>1</td>\n",
       "      <td>0.590114</td>\n",
       "    </tr>\n",
       "    <tr>\n",
       "      <th>31</th>\n",
       "      <td>-1</td>\n",
       "      <td>-1</td>\n",
       "      <td>0.636570</td>\n",
       "    </tr>\n",
       "  </tbody>\n",
       "</table>\n",
       "</div>"
      ],
      "text/plain": [
       "     Actual labels  Predicted labels  Probability of predicted labels\n",
       "Day                                                                  \n",
       "25              -1                -1                         0.709676\n",
       "26              -1                -1                         0.845989\n",
       "27              -1                -1                         0.951672\n",
       "28              -1                -1                         0.989715\n",
       "29               1                -1                         0.542773\n",
       "30               1                 1                         0.590114\n",
       "31              -1                -1                         0.636570"
      ]
     },
     "execution_count": 38,
     "metadata": {},
     "output_type": "execute_result"
    }
   ],
   "source": [
    "output"
   ]
  },
  {
   "cell_type": "markdown",
   "metadata": {},
   "source": [
    "### How is the model validated for accuracy?\n",
    "\n",
    "Training data is split into two components - the training set and the validation set. Training set forms the basis of training data while the validation set is used to compare hyperparamters and emperical entities that fit the model best."
   ]
  },
  {
   "cell_type": "markdown",
   "metadata": {},
   "source": [
    "### Potential other parameters\n",
    "\n",
    "Analyzing this data gave me a chance to dive deeper into schdules and delays of airplanes. It turns out that weather plays a bigger role than any other factor for a potential delay. (https://aviationsystemsdivision.arc.nasa.gov/publications/more/analysis/mueller_10_02.pdf)\n",
    "\n",
    "I think a categorical weather data point for every hour, or every six hours would make the model more complete."
   ]
  },
  {
   "cell_type": "markdown",
   "metadata": {},
   "source": [
    "### Top 10 airport departures\n",
    "\n",
    "We extract all the destination airports and group and sort them in descending order"
   ]
  },
  {
   "cell_type": "code",
   "execution_count": 42,
   "metadata": {
    "collapsed": false
   },
   "outputs": [
    {
     "name": "stdout",
     "output_type": "stream",
     "text": [
      "F:\\Study\\MS\\Transvoyant\\Departure\\dt=2018-01-01\n",
      "F:\\Study\\MS\\Transvoyant\\Departure\\dt=2018-01-02\n",
      "F:\\Study\\MS\\Transvoyant\\Departure\\dt=2018-01-03\n",
      "F:\\Study\\MS\\Transvoyant\\Departure\\dt=2018-01-04\n",
      "F:\\Study\\MS\\Transvoyant\\Departure\\dt=2018-01-05\n",
      "F:\\Study\\MS\\Transvoyant\\Departure\\dt=2018-01-06\n",
      "F:\\Study\\MS\\Transvoyant\\Departure\\dt=2018-01-07\n",
      "F:\\Study\\MS\\Transvoyant\\Departure\\dt=2018-01-08\n",
      "F:\\Study\\MS\\Transvoyant\\Departure\\dt=2018-01-09\n",
      "F:\\Study\\MS\\Transvoyant\\Departure\\dt=2018-01-10\n",
      "F:\\Study\\MS\\Transvoyant\\Departure\\dt=2018-01-11\n",
      "F:\\Study\\MS\\Transvoyant\\Departure\\dt=2018-01-12\n",
      "F:\\Study\\MS\\Transvoyant\\Departure\\dt=2018-01-13\n",
      "F:\\Study\\MS\\Transvoyant\\Departure\\dt=2018-01-14\n",
      "F:\\Study\\MS\\Transvoyant\\Departure\\dt=2018-01-15\n",
      "F:\\Study\\MS\\Transvoyant\\Departure\\dt=2018-01-16\n",
      "F:\\Study\\MS\\Transvoyant\\Departure\\dt=2018-01-17\n",
      "F:\\Study\\MS\\Transvoyant\\Departure\\dt=2018-01-18\n",
      "F:\\Study\\MS\\Transvoyant\\Departure\\dt=2018-01-19\n",
      "F:\\Study\\MS\\Transvoyant\\Departure\\dt=2018-01-20\n",
      "F:\\Study\\MS\\Transvoyant\\Departure\\dt=2018-01-21\n",
      "F:\\Study\\MS\\Transvoyant\\Departure\\dt=2018-01-22\n",
      "F:\\Study\\MS\\Transvoyant\\Departure\\dt=2018-01-23\n",
      "F:\\Study\\MS\\Transvoyant\\Departure\\dt=2018-01-24\n",
      "F:\\Study\\MS\\Transvoyant\\Departure\\dt=2018-01-25\n",
      "F:\\Study\\MS\\Transvoyant\\Departure\\dt=2018-01-26\n",
      "F:\\Study\\MS\\Transvoyant\\Departure\\dt=2018-01-27\n",
      "F:\\Study\\MS\\Transvoyant\\Departure\\dt=2018-01-28\n",
      "F:\\Study\\MS\\Transvoyant\\Departure\\dt=2018-01-29\n",
      "F:\\Study\\MS\\Transvoyant\\Departure\\dt=2018-01-30\n",
      "F:\\Study\\MS\\Transvoyant\\Departure\\dt=2018-01-31\n"
     ]
    }
   ],
   "source": [
    "departure_pattern = re.compile(\"\\\"destinationAirport\\\":{\\\"code\\\":\\\"([A-Z]+)\\\"\")\n",
    "departures_list = []\n",
    "exploreDir(\"F:\\Study\\MS\\Transvoyant\\Departure\")"
   ]
  },
  {
   "cell_type": "code",
   "execution_count": 44,
   "metadata": {
    "collapsed": false
   },
   "outputs": [
    {
     "data": {
      "text/plain": [
       "(2902315, 1)"
      ]
     },
     "execution_count": 44,
     "metadata": {},
     "output_type": "execute_result"
    }
   ],
   "source": [
    "destinations = pd.DataFrame(departures_list, columns=['Airports'])\n",
    "destinations.shape"
   ]
  },
  {
   "cell_type": "code",
   "execution_count": 50,
   "metadata": {
    "collapsed": false
   },
   "outputs": [
    {
     "name": "stderr",
     "output_type": "stream",
     "text": [
      "C:\\Users\\user\\Anaconda2\\lib\\site-packages\\ipykernel\\__main__.py:3: FutureWarning: sort(columns=....) is deprecated, use sort_values(by=.....)\n",
      "  app.launch_new_instance()\n"
     ]
    },
    {
     "data": {
      "text/html": [
       "<div>\n",
       "<table border=\"1\" class=\"dataframe\">\n",
       "  <thead>\n",
       "    <tr style=\"text-align: right;\">\n",
       "      <th></th>\n",
       "      <th>Airports</th>\n",
       "    </tr>\n",
       "    <tr>\n",
       "      <th>Airports</th>\n",
       "      <th></th>\n",
       "    </tr>\n",
       "  </thead>\n",
       "  <tbody>\n",
       "    <tr>\n",
       "      <th>KATL</th>\n",
       "      <td>35201</td>\n",
       "    </tr>\n",
       "    <tr>\n",
       "      <th>KORD</th>\n",
       "      <td>34906</td>\n",
       "    </tr>\n",
       "    <tr>\n",
       "      <th>KLAX</th>\n",
       "      <td>28626</td>\n",
       "    </tr>\n",
       "    <tr>\n",
       "      <th>KDFW</th>\n",
       "      <td>26855</td>\n",
       "    </tr>\n",
       "    <tr>\n",
       "      <th>ZBAA</th>\n",
       "      <td>24303</td>\n",
       "    </tr>\n",
       "    <tr>\n",
       "      <th>KDEN</th>\n",
       "      <td>23642</td>\n",
       "    </tr>\n",
       "    <tr>\n",
       "      <th>KCLT</th>\n",
       "      <td>21173</td>\n",
       "    </tr>\n",
       "    <tr>\n",
       "      <th>ZSPD</th>\n",
       "      <td>19816</td>\n",
       "    </tr>\n",
       "    <tr>\n",
       "      <th>ZGGG</th>\n",
       "      <td>18724</td>\n",
       "    </tr>\n",
       "    <tr>\n",
       "      <th>CYYZ</th>\n",
       "      <td>18693</td>\n",
       "    </tr>\n",
       "  </tbody>\n",
       "</table>\n",
       "</div>"
      ],
      "text/plain": [
       "          Airports\n",
       "Airports          \n",
       "KATL         35201\n",
       "KORD         34906\n",
       "KLAX         28626\n",
       "KDFW         26855\n",
       "ZBAA         24303\n",
       "KDEN         23642\n",
       "KCLT         21173\n",
       "ZSPD         19816\n",
       "ZGGG         18724\n",
       "CYYZ         18693"
      ]
     },
     "execution_count": 50,
     "metadata": {},
     "output_type": "execute_result"
    }
   ],
   "source": [
    "#filtered.groupby('Day')[['TooEarly']].sum()\n",
    "grouped_destinations = destinations.groupby('Airports')[['Airports']].count()\n",
    "grouped_destinations.sort(\"Airports\", ascending=False).head(10)"
   ]
  },
  {
   "cell_type": "code",
   "execution_count": null,
   "metadata": {
    "collapsed": true
   },
   "outputs": [],
   "source": []
  }
 ],
 "metadata": {
  "kernelspec": {
   "display_name": "Python 2",
   "language": "python",
   "name": "python2"
  },
  "language_info": {
   "codemirror_mode": {
    "name": "ipython",
    "version": 2
   },
   "file_extension": ".py",
   "mimetype": "text/x-python",
   "name": "python",
   "nbconvert_exporter": "python",
   "pygments_lexer": "ipython2",
   "version": "2.7.11"
  }
 },
 "nbformat": 4,
 "nbformat_minor": 2
}
